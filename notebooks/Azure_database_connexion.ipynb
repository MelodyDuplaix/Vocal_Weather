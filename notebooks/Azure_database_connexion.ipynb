{
 "cells": [
  {
   "cell_type": "code",
   "execution_count": 12,
   "metadata": {},
   "outputs": [],
   "source": [
    "import pandas as pd\n",
    "from dotenv import load_dotenv\n",
    "import os\n",
    "from sqlalchemy import create_engine, Column, Integer, String, MetaData\n",
    "from sqlalchemy.ext.declarative import declarative_base\n",
    "from sqlalchemy.orm import sessionmaker"
   ]
  },
  {
   "cell_type": "code",
   "execution_count": 13,
   "metadata": {},
   "outputs": [],
   "source": [
    "load_dotenv()\n",
    "database_url = os.getenv(\"DATABASE_URL\")\n",
    "engine = create_engine(database_url)  # type: ignore"
   ]
  },
  {
   "cell_type": "code",
   "execution_count": 18,
   "metadata": {},
   "outputs": [
    {
     "name": "stderr",
     "output_type": "stream",
     "text": [
      "C:\\Users\\melos\\AppData\\Local\\Temp\\ipykernel_8420\\705609443.py:3: MovedIn20Warning: The ``declarative_base()`` function is now available as sqlalchemy.orm.declarative_base(). (deprecated since: 2.0) (Background on SQLAlchemy 2.0 at: https://sqlalche.me/e/b8d9)\n",
      "  Base = declarative_base(metadata=metadata)\n"
     ]
    },
    {
     "name": "stdout",
     "output_type": "stream",
     "text": [
      "id: 1, timestamp: 2025-02-20 12:00:00, event: Test Event, code_stt: 200, error_message: None, original_text: Ceci est un test pour le 2 mars à Paris, response_time_azure: 150, recognized_entities: { 'date': ['2025-03-02'], 'localisation': ['Paris'] }, extraction_time_entities: 100, formatted_dates: 2025-03-02, localisation: Paris,weather_api_code: 200, weather_api_time: 200, weather_api_response: meteo, weather: meteo\n"
     ]
    }
   ],
   "source": [
    "\n",
    "# Définir les métadonnées et la classe de base\n",
    "metadata = MetaData()\n",
    "Base = declarative_base(metadata=metadata)\n",
    "\n",
    "# Définir la table de test\n",
    "class LogTable(Base):\n",
    "    __tablename__ = 'log_table'\n",
    "    id = Column(Integer, primary_key=True, autoincrement=True)\n",
    "    timestamp = Column(String, nullable=False)\n",
    "    event = Column(String, nullable=False)\n",
    "    code_stt = Column(Integer, nullable=False)\n",
    "    error_message = Column(String, nullable=True)\n",
    "    original_text = Column(String, nullable=False)\n",
    "    response_time_azure = Column(Integer, nullable=False)\n",
    "    recognized_entities = Column(String, nullable=True)\n",
    "    extraction_time_entities = Column(Integer, nullable=False)\n",
    "    formatted_dates = Column(String, nullable=True)\n",
    "    localisation = Column(String, nullable=True)\n",
    "    weather_api_code = Column(Integer, nullable=False)\n",
    "    weather_api_time = Column(Integer, nullable=False)\n",
    "    weather_api_response = Column(String, nullable=True)\n",
    "    weather = Column(String, nullable=True)\n",
    "\n",
    "# Créer la table dans la base de données\n",
    "def create_table(engine):\n",
    "    Base.metadata.create_all(engine)\n",
    "\n",
    "# Insérer des données dans la table\n",
    "def insert_data(engine, data):\n",
    "    Session = sessionmaker(bind=engine)\n",
    "    session = Session()\n",
    "\n",
    "    new_record = LogTable(**data)\n",
    "    session.add(new_record)\n",
    "    session.commit()\n",
    "\n",
    "    result = session.query(LogTable).all()\n",
    "    for row in result:\n",
    "        print(f\"id: {row.id}, timestamp: {row.timestamp}, event: {row.event}, code_stt: {row.code_stt}, error_message: {row.error_message}, original_text: {row.original_text}, response_time_azure: {row.response_time_azure}, recognized_entities: {row.recognized_entities}, extraction_time_entities: {row.extraction_time_entities}, formatted_dates: {row.formatted_dates}, localisation: {row.localisation},weather_api_code: {row.weather_api_code}, weather_api_time: {row.weather_api_time}, weather_api_response: {row.weather_api_response}, weather: {row.weather}\")\n",
    "\n",
    "    session.close()\n",
    "\n",
    "# Appel des fonctions\n",
    "create_table(engine)\n",
    "\n",
    "# Exemple de données à insérer\n",
    "data = {\n",
    "    'timestamp': '2025-02-20 12:00:00',\n",
    "    'event': 'Test Event',\n",
    "    'code_stt': 200,\n",
    "    'error_message': None,\n",
    "    'original_text': 'Ceci est un test pour le 2 mars à Paris',\n",
    "    'response_time_azure': 150,\n",
    "    'recognized_entities': \"{ 'date': ['2025-03-02'], 'localisation': ['Paris'] }\",\n",
    "    'extraction_time_entities': 100,\n",
    "    'formatted_dates': '2025-03-02',\n",
    "    'localisation': 'Paris',\n",
    "    'weather_api_code': 200,\n",
    "    'weather_api_time': 200,\n",
    "    'weather_api_response': 'meteo',\n",
    "    'weather': 'meteo'\n",
    "}\n",
    "\n",
    "insert_data(engine, data)"
   ]
  },
  {
   "cell_type": "code",
   "execution_count": null,
   "metadata": {},
   "outputs": [],
   "source": []
  }
 ],
 "metadata": {
  "kernelspec": {
   "display_name": "venv",
   "language": "python",
   "name": "python3"
  },
  "language_info": {
   "codemirror_mode": {
    "name": "ipython",
    "version": 3
   },
   "file_extension": ".py",
   "mimetype": "text/x-python",
   "name": "python",
   "nbconvert_exporter": "python",
   "pygments_lexer": "ipython3",
   "version": "3.12.6"
  }
 },
 "nbformat": 4,
 "nbformat_minor": 2
}
