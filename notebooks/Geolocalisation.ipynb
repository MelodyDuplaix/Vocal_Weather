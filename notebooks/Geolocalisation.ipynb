{
 "cells": [
  {
   "cell_type": "markdown",
   "metadata": {},
   "source": [
    "# Avec La librairy geopy"
   ]
  },
  {
   "cell_type": "code",
   "execution_count": 1,
   "metadata": {},
   "outputs": [],
   "source": [
    "from geopy.geocoders import Nominatim"
   ]
  },
  {
   "cell_type": "code",
   "execution_count": 58,
   "metadata": {},
   "outputs": [],
   "source": [
    "geolocator = Nominatim(user_agent=\"VocalWeatherMelody\")"
   ]
  },
  {
   "cell_type": "code",
   "execution_count": 60,
   "metadata": {},
   "outputs": [
    {
     "name": "stdout",
     "output_type": "stream",
     "text": [
      "latitude: 47.4080507, longitude: 0.7216688\n"
     ]
    }
   ],
   "source": [
    "location = geolocator.geocode(\"Tours nord\")\n",
    "print(f\"latitude: {location.latitude}, longitude: {location.longitude}\")"
   ]
  },
  {
   "cell_type": "markdown",
   "metadata": {},
   "source": [
    "# Avec l'api geocoding d'open meteo"
   ]
  },
  {
   "cell_type": "code",
   "execution_count": 13,
   "metadata": {},
   "outputs": [],
   "source": [
    "import requests\n",
    "import json"
   ]
  },
  {
   "cell_type": "code",
   "execution_count": 39,
   "metadata": {},
   "outputs": [],
   "source": [
    "def simple_get_request(location):\n",
    "  try:\n",
    "    response = requests.get(f\"https://geocoding-api.open-meteo.com/v1/search?name={location}&count=1&language=fr&format=json\")\n",
    "    response.raise_for_status()\n",
    "    return response\n",
    "  except requests.exceptions.RequestException as e:\n",
    "    print(f\"Error during GET request: {e}\")\n",
    "    return None"
   ]
  },
  {
   "cell_type": "code",
   "execution_count": 57,
   "metadata": {},
   "outputs": [],
   "source": [
    "response = simple_get_request(\"Tours\")"
   ]
  },
  {
   "cell_type": "code",
   "execution_count": 41,
   "metadata": {},
   "outputs": [
    {
     "name": "stdout",
     "output_type": "stream",
     "text": [
      "200\n",
      "latitude: 47.39484, longitude: 0.70398\n"
     ]
    }
   ],
   "source": [
    "if response:\n",
    "    print(response.status_code)\n",
    "    informations = json.loads(response.text)\n",
    "    latitude = informations[\"results\"][0][\"latitude\"]\n",
    "    longitude = informations[\"results\"][0][\"longitude\"]\n",
    "    print(f\"latitude: {latitude}, longitude: {longitude}\")"
   ]
  },
  {
   "cell_type": "markdown",
   "metadata": {},
   "source": [
    "# Avec l'api de adresse data gouv"
   ]
  },
  {
   "cell_type": "code",
   "execution_count": 31,
   "metadata": {},
   "outputs": [],
   "source": [
    "import requests\n",
    "import json"
   ]
  },
  {
   "cell_type": "code",
   "execution_count": 49,
   "metadata": {},
   "outputs": [],
   "source": [
    "def simple_get_request(location):\n",
    "  try:\n",
    "    response = requests.get(f\"https://api-adresse.data.gouv.fr/search/?q={location}&limit=1\")\n",
    "    response.raise_for_status()\n",
    "    return response\n",
    "  except requests.exceptions.RequestException as e:\n",
    "    print(f\"Error during GET request: {e}\")\n",
    "    return None"
   ]
  },
  {
   "cell_type": "code",
   "execution_count": 56,
   "metadata": {},
   "outputs": [],
   "source": [
    "response = simple_get_request(\"Tours\")"
   ]
  },
  {
   "cell_type": "code",
   "execution_count": 55,
   "metadata": {},
   "outputs": [
    {
     "name": "stdout",
     "output_type": "stream",
     "text": [
      "200\n",
      "latitude: 47.395476, longitude: 0.694273\n"
     ]
    }
   ],
   "source": [
    "if response:\n",
    "    print(response.status_code)\n",
    "    informations = json.loads(response.text)\n",
    "    latitude = informations[\"features\"][0][\"geometry\"][\"coordinates\"][1]\n",
    "    longitude = informations[\"features\"][0][\"geometry\"][\"coordinates\"][0]\n",
    "    print(f\"latitude: {latitude}, longitude: {longitude}\")"
   ]
  },
  {
   "cell_type": "markdown",
   "metadata": {},
   "source": [
    "Ce dernier a l'air d'avoir un temps de traitement légèrement plus rapide et n'a pas de limite quotidienne."
   ]
  },
  {
   "cell_type": "markdown",
   "metadata": {},
   "source": [
    "# Benchmark des api de geolocalisations"
   ]
  },
  {
   "cell_type": "code",
   "execution_count": 74,
   "metadata": {},
   "outputs": [
    {
     "name": "stdout",
     "output_type": "stream",
     "text": [
      "Geopy: latitude: 47.4080507, longitude: 0.7216688, temps: 0.0883 secondes\n",
      "Open-Meteo: latitude: 47.39484, longitude: 0.70398, temps: 0.0763 secondes\n",
      "Data.gouv: latitude: 47.395476, longitude: 0.694273, temps: 0.0621 secondes\n",
      "\n",
      "Comparaison des temps de traitement:\n",
      "Geopy: 0.0883 secondes\n",
      "Open-Meteo: 0.0763 secondes\n",
      "Data.gouv: 0.0621 secondes\n"
     ]
    }
   ],
   "source": [
    "\n",
    "geolocator = Nominatim(user_agent=\"VocalWeatherMelody\")\n",
    "start_time = time.time()\n",
    "location = geolocator.geocode(\"Tours nord\")\n",
    "end_time = time.time()\n",
    "geopy_time = end_time - start_time\n",
    "print(f\"Geopy: latitude: {location.latitude}, longitude: {location.longitude}, temps: {geopy_time:.4f} secondes\")\n",
    "\n",
    "def simple_get_request_openmeteo(location):\n",
    "  try:\n",
    "    start_time = time.time()\n",
    "    response = requests.get(f\"https://geocoding-api.open-meteo.com/v1/search?name={location}&count=1&language=fr&format=json\")\n",
    "    response.raise_for_status()\n",
    "    end_time = time.time()\n",
    "    return response, end_time - start_time\n",
    "  except requests.exceptions.RequestException as e:\n",
    "    print(f\"Error during GET request (Open-Meteo): {e}\")\n",
    "    return None, None\n",
    "\n",
    "response, openmeteo_time = simple_get_request_openmeteo(\"Tours\")\n",
    "if response:\n",
    "    informations = json.loads(response.text)\n",
    "    latitude = informations[\"results\"][0][\"latitude\"]\n",
    "    longitude = informations[\"results\"][0][\"longitude\"]\n",
    "    print(f\"Open-Meteo: latitude: {latitude}, longitude: {longitude}, temps: {openmeteo_time:.4f} secondes\")\n",
    "\n",
    "def simple_get_request_datagouv(location):\n",
    "  try:\n",
    "    start_time = time.time()\n",
    "    response = requests.get(f\"https://api-adresse.data.gouv.fr/search/?q={location}&limit=1\")\n",
    "    response.raise_for_status()\n",
    "    end_time = time.time()\n",
    "    return response, end_time - start_time\n",
    "  except requests.exceptions.RequestException as e:\n",
    "    print(f\"Error during GET request (Data.gouv): {e}\")\n",
    "    return None, None\n",
    "\n",
    "response, datagouv_time = simple_get_request_datagouv(\"Tours\")\n",
    "if response:\n",
    "    informations = json.loads(response.text)\n",
    "    latitude = informations[\"features\"][0][\"geometry\"][\"coordinates\"][1]\n",
    "    longitude = informations[\"features\"][0][\"geometry\"][\"coordinates\"][0]\n",
    "    print(f\"Data.gouv: latitude: {latitude}, longitude: {longitude}, temps: {datagouv_time:.4f} secondes\")\n",
    "\n",
    "print(\"\\nComparaison des temps de traitement:\")\n",
    "print(f\"Geopy: {geopy_time:.4f} secondes\")\n",
    "print(f\"Open-Meteo: {openmeteo_time:.4f} secondes\")\n",
    "print(f\"Data.gouv: {datagouv_time:.4f} secondes\")\n",
    "\n"
   ]
  }
 ],
 "metadata": {
  "kernelspec": {
   "display_name": "venv",
   "language": "python",
   "name": "python3"
  },
  "language_info": {
   "codemirror_mode": {
    "name": "ipython",
    "version": 3
   },
   "file_extension": ".py",
   "mimetype": "text/x-python",
   "name": "python",
   "nbconvert_exporter": "python",
   "pygments_lexer": "ipython3",
   "version": "3.12.6"
  }
 },
 "nbformat": 4,
 "nbformat_minor": 2
}
