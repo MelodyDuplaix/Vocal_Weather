{
 "cells": [
  {
   "cell_type": "markdown",
   "metadata": {},
   "source": [
    "# Import des librairies"
   ]
  },
  {
   "cell_type": "code",
   "execution_count": null,
   "metadata": {},
   "outputs": [],
   "source": [
    "from transformers import CamembertTokenizer, AutoModelForTokenClassification, pipeline\n",
    "import dateparser\n"
   ]
  },
  {
   "cell_type": "markdown",
   "metadata": {},
   "source": [
    "# Chargement du tokenizer et du modèle de hugging face"
   ]
  },
  {
   "cell_type": "code",
   "execution_count": 111,
   "metadata": {},
   "outputs": [],
   "source": [
    "tokenizer = CamembertTokenizer.from_pretrained(\"Jean-Baptiste/camembert-ner-with-dates\")\n",
    "model = AutoModelForTokenClassification.from_pretrained(\"Jean-Baptiste/camembert-ner-with-dates\")"
   ]
  },
  {
   "cell_type": "markdown",
   "metadata": {},
   "source": [
    "# Création de la pipeline de ner pour le modèle"
   ]
  },
  {
   "cell_type": "code",
   "execution_count": 118,
   "metadata": {},
   "outputs": [
    {
     "name": "stderr",
     "output_type": "stream",
     "text": [
      "Device set to use cpu\n"
     ]
    }
   ],
   "source": [
    "nlp = pipeline(\"ner\", model=model, tokenizer=tokenizer, aggregation_strategy=\"simple\")"
   ]
  },
  {
   "cell_type": "markdown",
   "metadata": {},
   "source": [
    "# Extraction des entités"
   ]
  },
  {
   "cell_type": "code",
   "execution_count": 119,
   "metadata": {},
   "outputs": [
    {
     "data": {
      "text/plain": [
       "[{'entity_group': 'DATE',\n",
       "  'score': 0.9400423,\n",
       "  'word': 'demain à',\n",
       "  'start': None,\n",
       "  'end': None},\n",
       " {'entity_group': 'LOC',\n",
       "  'score': 0.9828225,\n",
       "  'word': 'Paris',\n",
       "  'start': None,\n",
       "  'end': None}]"
      ]
     },
     "execution_count": 119,
     "metadata": {},
     "output_type": "execute_result"
    }
   ],
   "source": [
    "entities = nlp(\"Je voudrais la météo pour demain à Paris.\")\n",
    "entities"
   ]
  },
  {
   "cell_type": "markdown",
   "metadata": {},
   "source": [
    "# Récupération des dates et localisations dans les entités (et parsing des dates)"
   ]
  },
  {
   "cell_type": "code",
   "execution_count": 114,
   "metadata": {},
   "outputs": [
    {
     "name": "stdout",
     "output_type": "stream",
     "text": [
      "Dates extraites : [datetime.datetime(2025, 2, 19, 15, 19, 41, 503091)]\n",
      "Localisations extraites : ['Paris']\n"
     ]
    }
   ],
   "source": [
    "dates = []\n",
    "localisations = []\n",
    "\n",
    "for entite in entities:\n",
    "    if entite[\"entity_group\"] == \"DATE\":\n",
    "        date_obj = dateparser.parse(entite[\"word\"], languages=[\"fr\"])\n",
    "        dates.append(date_obj)\n",
    "    elif entite[\"entity_group\"] == \"LOC\":\n",
    "        localisations.append(entite[\"word\"])\n",
    "\n",
    "print(\"Dates extraites :\", dates)\n",
    "print(\"Localisations extraites :\", localisations)"
   ]
  }
 ],
 "metadata": {
  "kernelspec": {
   "display_name": "venv",
   "language": "python",
   "name": "python3"
  },
  "language_info": {
   "codemirror_mode": {
    "name": "ipython",
    "version": 3
   },
   "file_extension": ".py",
   "mimetype": "text/x-python",
   "name": "python",
   "nbconvert_exporter": "python",
   "pygments_lexer": "ipython3",
   "version": "3.12.6"
  }
 },
 "nbformat": 4,
 "nbformat_minor": 2
}
